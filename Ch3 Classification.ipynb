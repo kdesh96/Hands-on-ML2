{
 "cells": [
  {
   "cell_type": "markdown",
   "id": "33c1c7bb-8280-4150-ace4-fb374fc859c7",
   "metadata": {},
   "source": [
    "# <center> Chapter 3. Classification </center> "
   ]
  },
  {
   "cell_type": "code",
   "execution_count": 1,
   "id": "87bfee90-aa08-40b1-b05d-072ed1c6df08",
   "metadata": {},
   "outputs": [],
   "source": [
    "import numpy as np\n",
    "import pandas as pd\n",
    "import matplotlib.pyplot as plt\n",
    "import seaborn as sns"
   ]
  },
  {
   "cell_type": "code",
   "execution_count": null,
   "id": "a81d4843-3907-4f30-b728-f75cb0299ced",
   "metadata": {},
   "outputs": [],
   "source": []
  }
 ],
 "metadata": {
  "kernelspec": {
   "display_name": "Python 3",
   "language": "python",
   "name": "python3"
  },
  "language_info": {
   "codemirror_mode": {
    "name": "ipython",
    "version": 3
   },
   "file_extension": ".py",
   "mimetype": "text/x-python",
   "name": "python",
   "nbconvert_exporter": "python",
   "pygments_lexer": "ipython3",
   "version": "3.8.8"
  }
 },
 "nbformat": 4,
 "nbformat_minor": 5
}
