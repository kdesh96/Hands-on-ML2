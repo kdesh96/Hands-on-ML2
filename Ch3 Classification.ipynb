{
 "cells": [
  {
   "cell_type": "markdown",
   "id": "33c1c7bb-8280-4150-ace4-fb374fc859c7",
   "metadata": {},
   "source": [
    "# <center> Chapter 3. Classification </center> "
   ]
  },
  {
   "cell_type": "code",
   "execution_count": 1,
   "id": "87bfee90-aa08-40b1-b05d-072ed1c6df08",
   "metadata": {},
   "outputs": [],
   "source": [
    "import numpy as np\n",
    "import pandas as pd\n",
    "import matplotlib.pyplot as plt\n",
    "import seaborn as sns"
   ]
  },
  {
   "cell_type": "markdown",
   "id": "ab4ea904-289d-41f9-a514-08fc7549c541",
   "metadata": {},
   "source": [
    "## Dataset "
   ]
  },
  {
   "cell_type": "code",
   "execution_count": 2,
   "id": "a81d4843-3907-4f30-b728-f75cb0299ced",
   "metadata": {},
   "outputs": [],
   "source": [
    "from sklearn.datasets import fetch_openml"
   ]
  },
  {
   "cell_type": "code",
   "execution_count": 3,
   "id": "e84d1a2f-e5ed-4729-8658-cf7411bab906",
   "metadata": {},
   "outputs": [],
   "source": [
    "mnist = fetch_openml('mnist_784', version=1)"
   ]
  },
  {
   "cell_type": "code",
   "execution_count": 4,
   "id": "24b1ab02-b99a-43a6-a254-9657190d5567",
   "metadata": {},
   "outputs": [
    {
     "data": {
      "text/plain": [
       "dict_keys(['data', 'target', 'frame', 'categories', 'feature_names', 'target_names', 'DESCR', 'details', 'url'])"
      ]
     },
     "execution_count": 4,
     "metadata": {},
     "output_type": "execute_result"
    }
   ],
   "source": [
    "mnist.keys()"
   ]
  },
  {
   "cell_type": "markdown",
   "id": "09f476c3-3480-4cfe-b72b-11ae3399f9c7",
   "metadata": {},
   "source": [
    "### Structure of sklearn datasets\n",
    "\n",
    "Datasets have a dict structure with the following important keys\n",
    "<ul>\n",
    "    <li>DESCR - describing the dataset</li>\n",
    "    <li>data - containing an array with one row per instance and one column per feature (n*p)</li>\n",
    "    <li>target - containing an array with labels</li>"
   ]
  },
  {
   "cell_type": "code",
   "execution_count": 5,
   "id": "d6c2a27d-7ecd-4aec-8cb6-0211b43f209f",
   "metadata": {},
   "outputs": [],
   "source": [
    "X, y = mnist['data'],mnist['target']"
   ]
  },
  {
   "cell_type": "code",
   "execution_count": 9,
   "id": "013e29c8-6a9d-4b85-a756-e2d0ba667bbc",
   "metadata": {},
   "outputs": [
    {
     "data": {
      "text/plain": [
       "((70000, 784), (70000,))"
      ]
     },
     "execution_count": 9,
     "metadata": {},
     "output_type": "execute_result"
    }
   ],
   "source": [
    "X.shape, y.shape"
   ]
  },
  {
   "cell_type": "code",
   "execution_count": 35,
   "id": "000c1386-a1e3-45e7-89bc-760e812d296a",
   "metadata": {},
   "outputs": [],
   "source": [
    "some_digit = np.array(X.iloc[0])\n",
    "some_digit_image = some_digit.reshape(28,28)"
   ]
  },
  {
   "cell_type": "code",
   "execution_count": 22,
   "id": "6ba30211-232b-417b-a4c2-e6298be28889",
   "metadata": {},
   "outputs": [
    {
     "data": {
      "image/png": "[encoded data removed]",
      "text/plain": [
       "<Figure size 432x288 with 1 Axes>"
      ]
     },
     "metadata": {
      "needs_background": "light"
     },
     "output_type": "display_data"
    }
   ],
   "source": [
    "plt.imshow(some_digit_image, cmap='binary')\n",
    "plt.axis('off')\n",
    "plt.show()"
   ]
  },
  {
   "cell_type": "code",
   "execution_count": 23,
   "id": "8b74d6ec-a315-479a-8268-5a1d11889252",
   "metadata": {},
   "outputs": [
    {
     "data": {
      "text/plain": [
       "'5'"
      ]
     },
     "execution_count": 23,
     "metadata": {},
     "output_type": "execute_result"
    }
   ],
   "source": [
    "y[0]"
   ]
  },
  {
   "cell_type": "code",
   "execution_count": 25,
   "id": "59c0ed80-c140-4c21-aad0-2717041fedc1",
   "metadata": {},
   "outputs": [],
   "source": [
    "y = y.astype(np.uint8)"
   ]
  },
  {
   "cell_type": "markdown",
   "id": "70daf2d2-00a8-4625-b17e-903e0a18a959",
   "metadata": {},
   "source": [
    "## Train test split "
   ]
  },
  {
   "cell_type": "code",
   "execution_count": 26,
   "id": "5cc58ba2-66bc-4c0c-b6f4-d868d9d70a50",
   "metadata": {},
   "outputs": [],
   "source": [
    "X_train, X_test, y_train, y_test = X[:60000], X[60000:], y[:60000], y[60000:]"
   ]
  },
  {
   "cell_type": "markdown",
   "id": "73c31a55-2354-4d94-b373-7ee085ac452c",
   "metadata": {},
   "source": [
    "## Binary classifier"
   ]
  },
  {
   "cell_type": "code",
   "execution_count": 36,
   "id": "d821eb23-9e63-4667-abd4-034ad4a30187",
   "metadata": {},
   "outputs": [],
   "source": [
    "y_train_5, y_test_5 = (y_train==5), (y_test==5)"
   ]
  },
  {
   "cell_type": "code",
   "execution_count": 37,
   "id": "cb537c3f-7453-41a6-9465-c298f6ca7906",
   "metadata": {},
   "outputs": [],
   "source": [
    "from sklearn.linear_model import SGDClassifier"
   ]
  },
  {
   "cell_type": "code",
   "execution_count": 38,
   "id": "1c413ee2-ead0-4eee-a612-649ae606ab23",
   "metadata": {},
   "outputs": [
    {
     "ename": "NameError",
     "evalue": "name 'sgd_predict' is not defined",
     "output_type": "error",
     "traceback": [
      "\u001b[0;31m---------------------------------------------------------------------------\u001b[0m",
      "\u001b[0;31mNameError\u001b[0m                                 Traceback (most recent call last)",
      "\u001b[0;32m<ipython-input-38-905776c11ad1>\u001b[0m in \u001b[0;36m<module>\u001b[0;34m\u001b[0m\n\u001b[1;32m      1\u001b[0m \u001b[0msgd_clf\u001b[0m \u001b[0;34m=\u001b[0m \u001b[0mSGDClassifier\u001b[0m\u001b[0;34m(\u001b[0m\u001b[0mrandom_state\u001b[0m\u001b[0;34m=\u001b[0m\u001b[0;36m42\u001b[0m\u001b[0;34m)\u001b[0m\u001b[0;34m\u001b[0m\u001b[0;34m\u001b[0m\u001b[0m\n\u001b[1;32m      2\u001b[0m \u001b[0msgd_clf\u001b[0m\u001b[0;34m.\u001b[0m\u001b[0mfit\u001b[0m\u001b[0;34m(\u001b[0m\u001b[0mX_train\u001b[0m\u001b[0;34m,\u001b[0m \u001b[0my_train_5\u001b[0m\u001b[0;34m)\u001b[0m\u001b[0;34m\u001b[0m\u001b[0;34m\u001b[0m\u001b[0m\n\u001b[0;32m----> 3\u001b[0;31m \u001b[0msgd_predict\u001b[0m\u001b[0;34m(\u001b[0m\u001b[0;34m[\u001b[0m\u001b[0msome_digit\u001b[0m\u001b[0;34m]\u001b[0m\u001b[0;34m)\u001b[0m\u001b[0;34m\u001b[0m\u001b[0;34m\u001b[0m\u001b[0m\n\u001b[0m",
      "\u001b[0;31mNameError\u001b[0m: name 'sgd_predict' is not defined"
     ]
    }
   ],
   "source": [
    "sgd_clf = SGDClassifier(random_state=42)\n",
    "sgd_clf.fit(X_train, y_train_5)"
   ]
  },
  {
   "cell_type": "code",
   "execution_count": 39,
   "id": "9b1ff71b-dc00-4b18-88dd-dc915b71bc49",
   "metadata": {},
   "outputs": [
    {
     "data": {
      "text/plain": [
       "array([ True])"
      ]
     },
     "execution_count": 39,
     "metadata": {},
     "output_type": "execute_result"
    }
   ],
   "source": [
    "sgd_clf.predict([some_digit])"
   ]
  },
  {
   "cell_type": "markdown",
   "id": "01cf8b9d-ac9a-4715-aa25-10c98789dd9c",
   "metadata": {},
   "source": [
    "## Performance Measures "
   ]
  },
  {
   "cell_type": "markdown",
   "id": "fd29275d-68d9-4ac6-9f06-c007b94c056b",
   "metadata": {},
   "source": [
    "### Cross validation "
   ]
  },
  {
   "cell_type": "code",
   "execution_count": 40,
   "id": "cd4ccaef-af6b-4945-bcdf-e44cc2a5c162",
   "metadata": {},
   "outputs": [],
   "source": [
    "from sklearn.model_selection import StratifiedKFold\n",
    "from sklearn.base import clone"
   ]
  },
  {
   "cell_type": "code",
   "execution_count": 41,
   "id": "9d367435-4585-4d6d-9739-a978cbf04b4b",
   "metadata": {},
   "outputs": [],
   "source": [
    "# To-do - implement stratified k fold cross validation score"
   ]
  },
  {
   "cell_type": "code",
   "execution_count": 42,
   "id": "cd10763c-0451-4f4e-8bd8-cfe0c975a28a",
   "metadata": {},
   "outputs": [],
   "source": [
    "from sklearn.model_selection import cross_val_score"
   ]
  },
  {
   "cell_type": "code",
   "execution_count": 44,
   "id": "e7ef8f4f-ec8f-4755-8f40-ef75a9fc21bd",
   "metadata": {},
   "outputs": [
    {
     "data": {
      "text/plain": [
       "array([0.95035, 0.96035, 0.9604 ])"
      ]
     },
     "execution_count": 44,
     "metadata": {},
     "output_type": "execute_result"
    }
   ],
   "source": [
    "cross_val_score(sgd_clf, X_train, y_train_5, cv=3, scoring='accuracy')"
   ]
  },
  {
   "cell_type": "code",
   "execution_count": 45,
   "id": "04e95a6d-de1e-4062-af23-bc62cd511630",
   "metadata": {},
   "outputs": [],
   "source": [
    "from sklearn.base import BaseEstimator"
   ]
  },
  {
   "cell_type": "code",
   "execution_count": 55,
   "id": "89ba1f05-5005-4549-bbc9-d367cef6ee79",
   "metadata": {},
   "outputs": [],
   "source": [
    "class Never5Classifier(BaseEstimator):\n",
    "    def fit(self, X, y):\n",
    "        pass\n",
    "    def predict(self, X):\n",
    "        np.zeros((len(X)), dtype=bool)"
   ]
  },
  {
   "cell_type": "code",
   "execution_count": 56,
   "id": "a462fe51-1c0e-4b88-b838-1a88023e1f05",
   "metadata": {},
   "outputs": [],
   "source": [
    "never_5_clf = Never5Classifier()"
   ]
  },
  {
   "cell_type": "code",
   "execution_count": 73,
   "id": "c765f095-2843-49c4-b9ab-7bdda053532c",
   "metadata": {},
   "outputs": [
    {
     "data": {
      "text/plain": [
       "array([0.90965, 0.90965, 0.90965])"
      ]
     },
     "execution_count": 73,
     "metadata": {},
     "output_type": "execute_result"
    }
   ],
   "source": [
    "cross_val_score(dummy_clf, X_train, y_train_5, cv=3, scoring='accuracy')"
   ]
  },
  {
   "cell_type": "markdown",
   "id": "614eebae-abba-4c68-8187-12b38e4521cf",
   "metadata": {},
   "source": [
    "### Confusion Matrix "
   ]
  },
  {
   "cell_type": "code",
   "execution_count": 58,
   "id": "03d41666-ff8e-4ce9-8f33-bfbff0dc39e9",
   "metadata": {},
   "outputs": [],
   "source": [
    "from sklearn.model_selection import cross_val_predict"
   ]
  },
  {
   "cell_type": "code",
   "execution_count": 76,
   "id": "8003e48d-3be4-4ce6-bafb-f27a39d40f5c",
   "metadata": {},
   "outputs": [],
   "source": [
    "y_train_pred = cross_val_predict(sgd_clf, X_train, y_train_5, cv=3)"
   ]
  },
  {
   "cell_type": "code",
   "execution_count": 62,
   "id": "7b95bbd3-b4d6-4f4a-96e4-8439aa1e50af",
   "metadata": {},
   "outputs": [],
   "source": [
    "from sklearn.metrics import confusion_matrix"
   ]
  },
  {
   "cell_type": "code",
   "execution_count": 77,
   "id": "6afe1a60-7cde-4749-b224-79ceec04e0c2",
   "metadata": {},
   "outputs": [
    {
     "data": {
      "text/plain": [
       "array([[53892,   687],\n",
       "       [ 1891,  3530]])"
      ]
     },
     "execution_count": 77,
     "metadata": {},
     "output_type": "execute_result"
    }
   ],
   "source": [
    "confusion_matrix(y_train_5, y_train_pred)"
   ]
  },
  {
   "cell_type": "markdown",
   "id": "efda33ba-e0f0-4f07-b1af-8160b05bc74d",
   "metadata": {},
   "source": [
    "### Precision, Recall, F1 "
   ]
  },
  {
   "cell_type": "code",
   "execution_count": 78,
   "id": "15cfefbb-4386-4f68-83de-cc00d36916f9",
   "metadata": {},
   "outputs": [],
   "source": [
    "from sklearn.metrics import precision_score, recall_score, f1_score"
   ]
  },
  {
   "cell_type": "code",
   "execution_count": 79,
   "id": "3573de84-968e-422c-943f-e99dbf0fd0b6",
   "metadata": {},
   "outputs": [
    {
     "name": "stdout",
     "output_type": "stream",
     "text": [
      "0.8370879772350012\n",
      "0.6511713705958311\n",
      "0.7325171197343846\n"
     ]
    }
   ],
   "source": [
    "print(precision_score(y_train_5, y_train_pred)) # Of the instances classified as 5, how many were actually 5\n",
    "print(recall_score(y_train_5, y_train_pred)) # Of all the 5s, how many were classified as 5\n",
    "print(f1_score(y_train_5, y_train_pred)) # harmonic mean of the two above"
   ]
  },
  {
   "cell_type": "code",
   "execution_count": 80,
   "id": "44196a74-3930-4631-95c0-f7721ec5758f",
   "metadata": {},
   "outputs": [],
   "source": [
    "from sklearn.metrics import precision_recall_curve"
   ]
  },
  {
   "cell_type": "code",
   "execution_count": 81,
   "id": "3d4ef891-89d7-4f6d-8888-ab66494c244f",
   "metadata": {},
   "outputs": [],
   "source": [
    "y_scores = cross_val_predict(sgd_clf, X_train, y_train_5, cv=3, method='decision_function')"
   ]
  },
  {
   "cell_type": "code",
   "execution_count": 82,
   "id": "e11b8907-c1ef-4a9e-9781-5a7c1f49a351",
   "metadata": {},
   "outputs": [],
   "source": [
    "precisions, recalls, thresholds = precision_recall_curve(y_train_5, y_scores)"
   ]
  },
  {
   "cell_type": "code",
   "execution_count": 97,
   "id": "1987b8e1-7acc-404c-af55-41b033b859f2",
   "metadata": {},
   "outputs": [],
   "source": [
    "def plot_precision_recall_curve(precisions, recalls, thresholds):\n",
    "    plt.plot(thresholds, precisions[:-1], color='blue', ls='solid', label='Precision')\n",
    "    plt.plot(thresholds, recalls[:-1], color='green', ls='dashed', label='Recall')\n",
    "    plt.axvline(x = 8000, color = 'r', label = '8000')\n",
    "    plt.legend()\n",
    "    plt.xlabel('Threshold')\n",
    "    plt.ylabel('Scores')\n",
    "    plt.grid()"
   ]
  },
  {
   "cell_type": "code",
   "execution_count": 101,
   "id": "8bbb1b17-7331-4040-b280-82c9ee123228",
   "metadata": {},
   "outputs": [
    {
     "data": {
      "text/plain": [
       "array([ 8001.93008617,  8004.18873042,  8010.90928224, ...,\n",
       "       38871.26391927, 42216.05562787, 49441.43765905])"
      ]
     },
     "execution_count": 101,
     "metadata": {},
     "output_type": "execute_result"
    }
   ],
   "source": [
    "thresholds[thresholds > 7999]"
   ]
  },
  {
   "cell_type": "code",
   "execution_count": 98,
   "id": "f17d612e-aaa1-41d1-9a04-8a5d8c3f60ed",
   "metadata": {},
   "outputs": [
    {
     "data": {
      "image/png": "[encoded data removed]",
      "text/plain": [
       "<Figure size 1008x720 with 1 Axes>"
      ]
     },
     "metadata": {
      "needs_background": "light"
     },
     "output_type": "display_data"
    }
   ],
   "source": [
    "plt.figure(figsize=(14,10))\n",
    "plot_precision_recall_curve(precisions, recalls, thresholds)\n",
    "plt.show()"
   ]
  },
  {
   "cell_type": "code",
   "execution_count": 103,
   "id": "12a58d2d-05d9-467b-a18f-e49857d42cf3",
   "metadata": {},
   "outputs": [
    {
     "data": {
      "image/png": "[encoded data removed]",
      "text/plain": [
       "<Figure size 1008x720 with 1 Axes>"
      ]
     },
     "metadata": {
      "needs_background": "light"
     },
     "output_type": "display_data"
    }
   ],
   "source": [
    "plt.figure(figsize=(14,10))\n",
    "plt.plot(recalls, precisions)\n",
    "plt.xlabel('Recall')\n",
    "plt.ylabel('Precision')\n",
    "plt.grid()\n",
    "plt.show()"
   ]
  },
  {
   "cell_type": "markdown",
   "id": "30301f67-3968-413c-b75b-7f7ddf4b58d9",
   "metadata": {},
   "source": [
    "## The ROC Curve (Receiver Operating Characteristic) "
   ]
  },
  {
   "cell_type": "code",
   "execution_count": 110,
   "id": "9d5af3d8-c0d9-447e-8eec-93dd043cf851",
   "metadata": {},
   "outputs": [],
   "source": [
    "from sklearn.metrics import roc_curve"
   ]
  },
  {
   "cell_type": "code",
   "execution_count": 111,
   "id": "940fa658-7399-4194-a3c8-ddb6f2c39aa6",
   "metadata": {},
   "outputs": [],
   "source": [
    "fpr, tpr, thresholds = roc_curve(y_train_5, y_scores)"
   ]
  },
  {
   "cell_type": "code",
   "execution_count": 124,
   "id": "25b1949c-bbd2-472b-9891-d7fa8c33b033",
   "metadata": {},
   "outputs": [],
   "source": [
    "def plot_roc_curve(fpr, tpr, label=None):\n",
    "    plt.plot(fpr, tpr, linewidth=2, label=label)\n",
    "    plt.plot([0,1],[0,1], 'b--')\n",
    "    plt.xlabel('False Positive Rate')\n",
    "    plt.ylabel('True Positive Rate (Recall)')\n",
    "    plt.grid()"
   ]
  },
  {
   "cell_type": "code",
   "execution_count": 126,
   "id": "678e8b9a-8f94-4407-8f97-ff05d26d96f5",
   "metadata": {},
   "outputs": [
    {
     "data": {
      "image/png": "[encoded data removed]",
      "text/plain": [
       "<Figure size 1008x720 with 1 Axes>"
      ]
     },
     "metadata": {
      "needs_background": "light"
     },
     "output_type": "display_data"
    }
   ],
   "source": [
    "plt.figure(figsize=(14,10))\n",
    "plot_roc_curve(fpr, tpr, 'ROC Curve')\n",
    "plt.show()"
   ]
  },
  {
   "cell_type": "markdown",
   "id": "ccc51740-b6ae-4131-b18b-7524b59f620e",
   "metadata": {},
   "source": [
    "## AUC-ROC\n",
    "\n",
    "Area under the curve - ROC"
   ]
  },
  {
   "cell_type": "code",
   "execution_count": 127,
   "id": "f7b77a41-c03a-4cb0-99d1-6a44adca6f38",
   "metadata": {},
   "outputs": [],
   "source": [
    "from sklearn.metrics import roc_auc_score"
   ]
  },
  {
   "cell_type": "code",
   "execution_count": 128,
   "id": "af25fe56-d4b9-4f7f-b64c-36434ca87811",
   "metadata": {},
   "outputs": [
    {
     "data": {
      "text/plain": [
       "0.9604938554008616"
      ]
     },
     "execution_count": 128,
     "metadata": {},
     "output_type": "execute_result"
    }
   ],
   "source": [
    "roc_auc_score(y_train_5, y_scores)"
   ]
  },
  {
   "cell_type": "code",
   "execution_count": 129,
   "id": "535dbba3-e06c-4efa-b3f2-7b85d22ea0c7",
   "metadata": {},
   "outputs": [],
   "source": [
    "from sklearn.ensemble import RandomForestClassifier"
   ]
  },
  {
   "cell_type": "code",
   "execution_count": 131,
   "id": "879af6c0-eb60-45d5-8e97-c42297a26ecd",
   "metadata": {},
   "outputs": [],
   "source": [
    "rf_clf = RandomForestClassifier(random_state=42)"
   ]
  },
  {
   "cell_type": "code",
   "execution_count": 132,
   "id": "c85e69ae-4eb7-4f2e-ae84-04c5bdc70b5b",
   "metadata": {},
   "outputs": [],
   "source": [
    "y_probabs = cross_val_predict(rf_clf, X_train, y_train_5, cv=3, method='predict_proba')"
   ]
  },
  {
   "cell_type": "code",
   "execution_count": 135,
   "id": "4fef5f7e-7052-45cf-9ee7-423523d91c6b",
   "metadata": {},
   "outputs": [],
   "source": [
    "y_scores_forest = y_probabs[:,1]"
   ]
  },
  {
   "cell_type": "code",
   "execution_count": 136,
   "id": "aed52718-171d-4973-bea2-b38ec563b527",
   "metadata": {},
   "outputs": [],
   "source": [
    "fpr_forest, tpr_forest, thresholds_forest = roc_curve(y_train_5, y_scores_forest)"
   ]
  },
  {
   "cell_type": "code",
   "execution_count": 138,
   "id": "3c70a07c-84be-4fb4-bfe1-e6967ef94389",
   "metadata": {},
   "outputs": [
    {
     "data": {
      "image/png": "[encoded data removed]",
      "text/plain": [
       "<Figure size 1008x720 with 1 Axes>"
      ]
     },
     "metadata": {
      "needs_background": "light"
     },
     "output_type": "display_data"
    }
   ],
   "source": [
    "plt.figure(figsize=(14,10))\n",
    "plt.plot(fpr, tpr, 'b:', label='SGD')\n",
    "plot_roc_curve(fpr_forest, tpr_forest, 'Random Forest')\n",
    "plt.legend(loc='lower right')\n",
    "plt.show()"
   ]
  },
  {
   "cell_type": "code",
   "execution_count": 139,
   "id": "e5ed6112-e588-45df-b334-e04b0b4da32f",
   "metadata": {},
   "outputs": [
    {
     "data": {
      "text/plain": [
       "0.9983436731328145"
      ]
     },
     "execution_count": 139,
     "metadata": {},
     "output_type": "execute_result"
    }
   ],
   "source": [
    "roc_auc_score(y_train_5, y_scores_forest)"
   ]
  },
  {
   "cell_type": "markdown",
   "id": "d6a97f23-a8a0-4e0d-9e9d-4353fae6cd31",
   "metadata": {},
   "source": [
    "## Multiclass Classification "
   ]
  },
  {
   "cell_type": "code",
   "execution_count": 140,
   "id": "bc536fdf-b814-47a0-8297-ac1f3c8337ea",
   "metadata": {},
   "outputs": [],
   "source": [
    "from sklearn.svm import SVC"
   ]
  },
  {
   "cell_type": "code",
   "execution_count": 143,
   "id": "fa730d0f-5f13-4853-ac02-cca88a0d2d08",
   "metadata": {},
   "outputs": [
    {
     "data": {
      "text/plain": [
       "SVC()"
      ]
     },
     "execution_count": 143,
     "metadata": {},
     "output_type": "execute_result"
    }
   ],
   "source": [
    "svm_clf = SVC()\n",
    "svm_clf.fit(X_train, y_train)"
   ]
  },
  {
   "cell_type": "code",
   "execution_count": 144,
   "id": "41d94246-d186-4146-89c9-dc2a69afa8a3",
   "metadata": {},
   "outputs": [
    {
     "data": {
      "text/plain": [
       "array([5], dtype=uint8)"
      ]
     },
     "execution_count": 144,
     "metadata": {},
     "output_type": "execute_result"
    }
   ],
   "source": [
    "svm_clf.predict([some_digit])"
   ]
  },
  {
   "cell_type": "code",
   "execution_count": 149,
   "id": "1f1a47df-59e1-457f-b60c-88ec3af9b500",
   "metadata": {},
   "outputs": [],
   "source": [
    "some_digit_scores = svm_clf.decision_function([some_digit])"
   ]
  },
  {
   "cell_type": "code",
   "execution_count": 150,
   "id": "9f1bde51-a326-4a89-bde0-f6ad346c89f6",
   "metadata": {},
   "outputs": [
    {
     "data": {
      "text/plain": [
       "array([[ 1.72501977,  2.72809088,  7.2510018 ,  8.3076379 , -0.31087254,\n",
       "         9.3132482 ,  1.70975103,  2.76765202,  6.23049537,  4.84771048]])"
      ]
     },
     "execution_count": 150,
     "metadata": {},
     "output_type": "execute_result"
    }
   ],
   "source": [
    "some_digit_scores"
   ]
  },
  {
   "cell_type": "code",
   "execution_count": 156,
   "id": "7fef6bc7-1170-4e72-8de2-1635bd7fb1a3",
   "metadata": {},
   "outputs": [
    {
     "data": {
      "text/plain": [
       "5"
      ]
     },
     "execution_count": 156,
     "metadata": {},
     "output_type": "execute_result"
    }
   ],
   "source": [
    "some_digit_scores.argmax()"
   ]
  },
  {
   "cell_type": "markdown",
   "id": "ce2f0246-47dd-421a-9182-4d6e80b9640a",
   "metadata": {},
   "source": [
    "#### SVM by default uses a One vs One classifier\n",
    "\n",
    "Running a One vs Rest classifier"
   ]
  },
  {
   "cell_type": "code",
   "execution_count": 145,
   "id": "4750a4de-94fe-4d67-9834-4ee80ea6d938",
   "metadata": {},
   "outputs": [],
   "source": [
    "from sklearn.multiclass import OneVsRestClassifier"
   ]
  },
  {
   "cell_type": "code",
   "execution_count": 146,
   "id": "a30d52b1-e98e-435d-90ce-9f61c2002bab",
   "metadata": {},
   "outputs": [],
   "source": [
    "ovr_clf = OneVsRestClassifier(SVC())"
   ]
  },
  {
   "cell_type": "code",
   "execution_count": 148,
   "id": "858938a0-8f4b-4310-9f74-c422b3836192",
   "metadata": {},
   "outputs": [
    {
     "data": {
      "text/plain": [
       "OneVsRestClassifier(estimator=SVC())"
      ]
     },
     "execution_count": 148,
     "metadata": {},
     "output_type": "execute_result"
    }
   ],
   "source": [
    "ovr_clf.fit(X_train, y_train)"
   ]
  },
  {
   "cell_type": "code",
   "execution_count": 151,
   "id": "5d97c9f9-ddec-411c-b073-5c8ef467daf8",
   "metadata": {},
   "outputs": [
    {
     "data": {
      "text/plain": [
       "array([5], dtype=uint8)"
      ]
     },
     "execution_count": 151,
     "metadata": {},
     "output_type": "execute_result"
    }
   ],
   "source": [
    "ovr_clf.predict([some_digit])"
   ]
  },
  {
   "cell_type": "markdown",
   "id": "5dc39de1-8fdf-4a03-a189-b153f27bb427",
   "metadata": {},
   "source": [
    "#### Random Forest and SGD directly classify instances into multiple classes hence there's no need for OvO or OvR  "
   ]
  },
  {
   "cell_type": "markdown",
   "id": "d41aef25-392c-4889-bb6c-b2258c01ccda",
   "metadata": {},
   "source": [
    "#### Note: Scaling results in better performance"
   ]
  },
  {
   "cell_type": "code",
   "execution_count": 152,
   "id": "3c86e59e-092b-42f7-8fc1-36ab44c17767",
   "metadata": {},
   "outputs": [],
   "source": [
    "from sklearn.preprocessing import StandardScaler"
   ]
  },
  {
   "cell_type": "code",
   "execution_count": 153,
   "id": "612dc793-79a8-4adb-8b16-6d90d155b412",
   "metadata": {},
   "outputs": [],
   "source": [
    "scaler = StandardScaler()"
   ]
  },
  {
   "cell_type": "code",
   "execution_count": 154,
   "id": "1982ef5a-ccf8-4f04-966e-865c9cb6a342",
   "metadata": {},
   "outputs": [],
   "source": [
    "X_train_scaled = scaler.fit_transform(X_train.astype(np.float64))"
   ]
  },
  {
   "cell_type": "code",
   "execution_count": 155,
   "id": "0a01fa31-5bb6-4447-949a-6b8c3683b5aa",
   "metadata": {},
   "outputs": [
    {
     "data": {
      "text/plain": [
       "array([0.96445, 0.96255, 0.96645])"
      ]
     },
     "execution_count": 155,
     "metadata": {},
     "output_type": "execute_result"
    }
   ],
   "source": [
    "cross_val_score(rf_clf, X_train_scaled, y_train, cv=3, scoring='accuracy')"
   ]
  },
  {
   "cell_type": "markdown",
   "id": "6ebaf28f-a161-43dd-929c-a7ab0043748c",
   "metadata": {},
   "source": [
    "## Error Analysis "
   ]
  },
  {
   "cell_type": "code",
   "execution_count": 159,
   "id": "5979fd94-7f72-4885-be52-be73a7681a26",
   "metadata": {},
   "outputs": [],
   "source": [
    "y_train_pred = cross_val_predict(sgd_clf, X_train_scaled, y_train, cv=3)"
   ]
  },
  {
   "cell_type": "code",
   "execution_count": 160,
   "id": "245c89af-84ce-4116-bd5e-a8e3743f678a",
   "metadata": {},
   "outputs": [],
   "source": [
    "conf_mx = confusion_matrix(y_train, y_train_pred)"
   ]
  },
  {
   "cell_type": "code",
   "execution_count": 161,
   "id": "2d1f5775-0691-4b77-b021-9da73ef09a84",
   "metadata": {},
   "outputs": [
    {
     "data": {
      "text/plain": [
       "array([[5577,    0,   22,    5,    8,   43,   36,    6,  225,    1],\n",
       "       [   0, 6400,   37,   24,    4,   44,    4,    7,  212,   10],\n",
       "       [  27,   27, 5220,   92,   73,   27,   67,   36,  378,   11],\n",
       "       [  22,   17,  117, 5227,    2,  203,   27,   40,  403,   73],\n",
       "       [  12,   14,   41,    9, 5182,   12,   34,   27,  347,  164],\n",
       "       [  27,   15,   30,  168,   53, 4444,   75,   14,  535,   60],\n",
       "       [  30,   15,   42,    3,   44,   97, 5552,    3,  131,    1],\n",
       "       [  21,   10,   51,   30,   49,   12,    3, 5684,  195,  210],\n",
       "       [  17,   63,   48,   86,    3,  126,   25,   10, 5429,   44],\n",
       "       [  25,   18,   30,   64,  118,   36,    1,  179,  371, 5107]])"
      ]
     },
     "execution_count": 161,
     "metadata": {},
     "output_type": "execute_result"
    }
   ],
   "source": [
    "conf_mx"
   ]
  },
  {
   "cell_type": "code",
   "execution_count": 170,
   "id": "ba7ab9f1-00f0-4eeb-9f8e-fc039cbc7de2",
   "metadata": {},
   "outputs": [
    {
     "data": {
      "image/png": "[encoded data removed]",
      "text/plain": [
       "<Figure size 1008x864 with 1 Axes>"
      ]
     },
     "metadata": {
      "needs_background": "light"
     },
     "output_type": "display_data"
    }
   ],
   "source": [
    "plt.figure(figsize=(14,12))\n",
    "plt.matshow(conf_mx, cmap=plt.cm.gray, fignum=1)\n",
    "plt.show()"
   ]
  },
  {
   "cell_type": "code",
   "execution_count": 163,
   "id": "c02c5198-ac42-4e4c-92f4-5e43c0ddce2a",
   "metadata": {},
   "outputs": [],
   "source": [
    "row_sums = conf_mx.sum(axis=1, keepdims=True)"
   ]
  },
  {
   "cell_type": "code",
   "execution_count": 164,
   "id": "63e09f76-e4bf-41d8-a065-50037b963156",
   "metadata": {},
   "outputs": [],
   "source": [
    "norm_conf_mx = conf_mx / row_sums"
   ]
  },
  {
   "cell_type": "code",
   "execution_count": 174,
   "id": "85325cc0-8dd4-4fbd-b3d6-7b58402be0c5",
   "metadata": {},
   "outputs": [
    {
     "data": {
      "image/png": "[encoded data removed]",
      "text/plain": [
       "<Figure size 1008x864 with 1 Axes>"
      ]
     },
     "metadata": {
      "needs_background": "light"
     },
     "output_type": "display_data"
    }
   ],
   "source": [
    "np.fill_diagonal(norm_conf_mx, 0)\n",
    "\n",
    "plt.figure(figsize=(14,12))\n",
    "plt.matshow(norm_conf_mx, cmap=plt.cm.gray, fignum=1)\n",
    "plt.xticks(ticks=y_train.unique())\n",
    "plt.yticks(ticks=y_train.unique())\n",
    "plt.show()"
   ]
  },
  {
   "cell_type": "code",
   "execution_count": null,
   "id": "315c3c25-6b82-4999-b33d-71a41c4fc35e",
   "metadata": {},
   "outputs": [],
   "source": []
  }
 ],
 "metadata": {
  "kernelspec": {
   "display_name": "Python 3",
   "language": "python",
   "name": "python3"
  },
  "language_info": {
   "codemirror_mode": {
    "name": "ipython",
    "version": 3
   },
   "file_extension": ".py",
   "mimetype": "text/x-python",
   "name": "python",
   "nbconvert_exporter": "python",
   "pygments_lexer": "ipython3",
   "version": "3.8.8"
  }
 },
 "nbformat": 4,
 "nbformat_minor": 5
}
